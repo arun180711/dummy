{
  "cells": [
    {
      "cell_type": "markdown",
      "metadata": {
        "id": "Zd2gwf9LJNJS"
      },
      "source": [
        "# Model Building"
      ]
    },
    {
      "cell_type": "markdown",
      "metadata": {
        "id": "yOS-MrmRJV4Y"
      },
      "source": [
        "In this milestone, we start building our model by:\n",
        "1. Initializing the model\n",
        "2. Adding Convolution layers\n",
        "3. Adding Pooling layers\n",
        "4. Flatten layer\n",
        "5. Full connection layers which include hidden layers<br>\n",
        "At last, we compile the model with layers we added to complete the neural network structure\n"
      ]
    },
    {
      "cell_type": "markdown",
      "metadata": {
        "id": "aIGSMPTnJh_f"
      },
      "source": [
        "#### Import ImageDataGenerator Library And Configure It\n"
      ]
    },
    {
      "cell_type": "markdown",
      "metadata": {
        "id": "9ZTV4KeEJn4Q"
      },
      "source": [
        "Import ImageDataGenerator and create an instance for which include shearing, rescale, zooming, etc to make the model robust with different types of images.\n"
      ]
    },
    {
      "cell_type": "code",
      "execution_count": 1,
      "metadata": {
        "id": "3Sg7EUw0JUzt"
      },
      "outputs": [
        {
          "name": "stderr",
          "output_type": "stream",
          "text": [
            "2022-11-16 01:58:08.921975: W tensorflow/stream_executor/platform/default/dso_loader.cc:64] Could not load dynamic library 'libcudart.so.11.0'; dlerror: libcudart.so.11.0: cannot open shared object file: No such file or directory\n",
            "2022-11-16 01:58:08.922019: I tensorflow/stream_executor/cuda/cudart_stub.cc:29] Ignore above cudart dlerror if you do not have a GPU set up on your machine.\n"
          ]
        }
      ],
      "source": [
        "from keras.preprocessing.image import ImageDataGenerator\n",
        "train_datagen=ImageDataGenerator(rescale = 1./255, shear_range=0.2, zoom_range=0.2,horizontal_flip=True)\n",
        "test_datagen = ImageDataGenerator(rescale=1./255)"
      ]
    },
    {
      "cell_type": "markdown",
      "metadata": {
        "id": "97Y9qaPdLioN"
      },
      "source": [
        "#### Apply ImageDataGenerator Functionality To Train And Test Set"
      ]
    },
    {
      "cell_type": "markdown",
      "metadata": {
        "id": "3lKtqnNZLobh"
      },
      "source": [
        "Specify the path of both the folders in the flow_from_directory method.\n",
        "\n",
        "Flow from directory loads the images from a given directory and can bring all the images to the target size. We will be loading all the images of the train and test using the flow from directory method.\n",
        "\n"
      ]
    },
    {
      "cell_type": "code",
      "execution_count": 3,
      "metadata": {
        "colab": {
          "base_uri": "https://localhost:8080/"
        },
        "id": "iQGFTQGxLwDF",
        "outputId": "d5f239f9-9967-406b-e902-c287dffd69e9"
      },
      "outputs": [
        {
          "name": "stdout",
          "output_type": "stream",
          "text": [
            "Found 15750 images belonging to 9 classes.\n"
          ]
        }
      ],
      "source": [
        "x_train = train_datagen.flow_from_directory(\"/workspace/IBM-Project-31588-1660203186/Project Development Phase/Sprint 1/Data Collection/Create Train And Test Folders/Dataset/training_set\", target_size=(64,64), batch_size=300, class_mode='categorical', color_mode =\"grayscale\")"
      ]
    },
    {
      "cell_type": "code",
      "execution_count": 4,
      "metadata": {
        "colab": {
          "base_uri": "https://localhost:8080/"
        },
        "id": "EvhVi0wpMdp_",
        "outputId": "7c47fffb-10ec-4346-bf71-5773b974b27a"
      },
      "outputs": [
        {
          "name": "stdout",
          "output_type": "stream",
          "text": [
            "Found 2250 images belonging to 9 classes.\n"
          ]
        }
      ],
      "source": [
        "x_test = test_datagen.flow_from_directory('/workspace/IBM-Project-31588-1660203186/Project Development Phase/Sprint 1/Data Collection/Create Train And Test Folders/Dataset/test_set', target_size=(64,64),batch_size=300, class_mode='categorical', color_mode =\"grayscale\")"
      ]
    },
    {
      "cell_type": "markdown",
      "metadata": {
        "id": "JAwrk-xuNuvT"
      },
      "source": [
        "#### Import The Required Model Building Libraries"
      ]
    },
    {
      "cell_type": "markdown",
      "metadata": {
        "id": "1j9xrHWENytK"
      },
      "source": [
        "Import the libraries that are required to initialize the neural network layer, create and add different layers to the neural network model."
      ]
    },
    {
      "cell_type": "code",
      "execution_count": 5,
      "metadata": {
        "id": "G6s68zLaN2Kd"
      },
      "outputs": [],
      "source": [
        "from keras.models import Sequential\n",
        "from keras.layers import Dense\n",
        "from keras.layers import Convolution2D\n",
        "from keras.layers import Conv2D\n",
        "from keras.layers import MaxPooling2D\n",
        "from keras.layers import Dropout\n",
        "from keras.layers import Flatten"
      ]
    },
    {
      "cell_type": "markdown",
      "metadata": {
        "id": "_xhhh-gUONfv"
      },
      "source": [
        "#### Initialize The Model"
      ]
    },
    {
      "cell_type": "markdown",
      "metadata": {
        "id": "zt77rPyhOSVp"
      },
      "source": [
        "Initialize the neural network layer by creating a reference/object to the Sequential class."
      ]
    },
    {
      "cell_type": "code",
      "execution_count": 6,
      "metadata": {
        "id": "V0R5rWtBOVgx"
      },
      "outputs": [
        {
          "name": "stderr",
          "output_type": "stream",
          "text": [
            "2022-11-16 01:59:46.579333: W tensorflow/stream_executor/platform/default/dso_loader.cc:64] Could not load dynamic library 'libcuda.so.1'; dlerror: libcuda.so.1: cannot open shared object file: No such file or directory\n",
            "2022-11-16 01:59:46.579380: W tensorflow/stream_executor/cuda/cuda_driver.cc:269] failed call to cuInit: UNKNOWN ERROR (303)\n",
            "2022-11-16 01:59:46.579402: I tensorflow/stream_executor/cuda/cuda_diagnostics.cc:156] kernel driver does not appear to be running on this host (ibmepbl-ibmproject31588-haui0aye5ti): /proc/driver/nvidia/version does not exist\n",
            "2022-11-16 01:59:46.579636: I tensorflow/core/platform/cpu_feature_guard.cc:193] This TensorFlow binary is optimized with oneAPI Deep Neural Network Library (oneDNN) to use the following CPU instructions in performance-critical operations:  AVX2 FMA\n",
            "To enable them in other operations, rebuild TensorFlow with the appropriate compiler flags.\n"
          ]
        }
      ],
      "source": [
        "model=Sequential()"
      ]
    },
    {
      "cell_type": "markdown",
      "metadata": {
        "id": "T53zeK2WOagT"
      },
      "source": [
        "#### Add The Convolution Layer"
      ]
    },
    {
      "cell_type": "markdown",
      "metadata": {
        "id": "MUxLcXtKOf53"
      },
      "source": [
        "The first layer of the neural network model, the convolution layer will be added. To create a convolution layer, Convolution2D class is used. It takes the number of feature detectors, feature detector size, expected input shape of the image, activation function as arguments. This layer applies feature detectors on the input image and returns a feature map (features from the image)."
      ]
    },
    {
      "cell_type": "code",
      "execution_count": 7,
      "metadata": {
        "id": "G_n93NPhOk_P"
      },
      "outputs": [],
      "source": [
        "model.add(Convolution2D(32,(3,3), input_shape=(64,64,1), activation = 'relu'))"
      ]
    },
    {
      "cell_type": "markdown",
      "metadata": {
        "id": "C982bfzzOwqv"
      },
      "source": [
        "#### Add The Pooling Layer\n"
      ]
    },
    {
      "cell_type": "markdown",
      "metadata": {
        "id": "1zX9wrGwO2nF"
      },
      "source": [
        "After the convolution layer, usually, the pooling layer is added. Max pooling layer can be added using MaxPooling2D class. It takes the pool size as a parameter. The efficient size of the pooling matrix is (2,2). It returns the pooled feature maps. (Note: Any number of convolution layers, pooling and dropout layers can be added)\n",
        "\n"
      ]
    },
    {
      "cell_type": "code",
      "execution_count": 8,
      "metadata": {
        "id": "TbSLuVkLPA-f"
      },
      "outputs": [],
      "source": [
        "model.add(MaxPooling2D(pool_size=(2,2)))"
      ]
    },
    {
      "cell_type": "markdown",
      "metadata": {
        "id": "HXkR4msWPFl6"
      },
      "source": [
        "#### Add The Flatten Layer"
      ]
    },
    {
      "cell_type": "markdown",
      "metadata": {
        "id": "siDIiVySPKGQ"
      },
      "source": [
        "The flatten layer is used to convert the n-dimensional array to a 1-dimensional array. This 1D array will be given as input to ANN layers."
      ]
    },
    {
      "cell_type": "code",
      "execution_count": 9,
      "metadata": {
        "id": "ZeNUqMCvPOFy"
      },
      "outputs": [],
      "source": [
        "model.add(Flatten())"
      ]
    },
    {
      "cell_type": "markdown",
      "metadata": {
        "id": "gBf7dmSsPX5_"
      },
      "source": [
        "#### Adding The Dense Layers"
      ]
    },
    {
      "cell_type": "markdown",
      "metadata": {
        "id": "8bdkC2POPZOv"
      },
      "source": [
        "Three dense layers are added which usually takes the number of units/neurons. Specifying the activation function, kind of weight initialization is optional."
      ]
    },
    {
      "cell_type": "code",
      "execution_count": 10,
      "metadata": {
        "id": "nUP8mFqKPdNs"
      },
      "outputs": [],
      "source": [
        "model.add(Dense( units=512, activation='relu'))"
      ]
    },
    {
      "cell_type": "code",
      "execution_count": 11,
      "metadata": {
        "id": "4CODmNqCPx04"
      },
      "outputs": [],
      "source": [
        "model.add(Dense(units=9, activation='softmax'))"
      ]
    },
    {
      "cell_type": "markdown",
      "metadata": {
        "id": "RbnWlHQAPg2m"
      },
      "source": [
        "#### Compile The Model"
      ]
    },
    {
      "cell_type": "markdown",
      "metadata": {
        "id": "SACaLdzdPkza"
      },
      "source": [
        "After adding all the required layers, the model is to be compiled. For this step, loss function, optimizer, and metrics for evaluation can be passed as arguments."
      ]
    },
    {
      "cell_type": "code",
      "execution_count": 12,
      "metadata": {
        "id": "Vv6pmSWqPpj_"
      },
      "outputs": [],
      "source": [
        "model.compile(loss='categorical_crossentropy', optimizer='adam', metrics=['accuracy'])"
      ]
    },
    {
      "cell_type": "markdown",
      "metadata": {
        "id": "zuKuu5uOP8YA"
      },
      "source": [
        "#### Fit The Model"
      ]
    },
    {
      "cell_type": "markdown",
      "metadata": {
        "id": "-KUYEHRlQEkU"
      },
      "source": [
        "Fit the neural network model with the train and test set, number of epochs, and validation steps."
      ]
    },
    {
      "cell_type": "code",
      "execution_count": 13,
      "metadata": {
        "colab": {
          "base_uri": "https://localhost:8080/"
        },
        "id": "8sgQUHjWQHYo",
        "outputId": "70e2c39a-9e3c-43a6-dbbe-853e47e21854"
      },
      "outputs": [
        {
          "name": "stderr",
          "output_type": "stream",
          "text": [
            "/home/gitpod/anaconda3/envs/sandbox/lib/python3.7/site-packages/ipykernel_launcher.py:1: UserWarning: `Model.fit_generator` is deprecated and will be removed in a future version. Please use `Model.fit`, which supports generators.\n",
            "  \"\"\"Entry point for launching an IPython kernel.\n"
          ]
        },
        {
          "name": "stdout",
          "output_type": "stream",
          "text": [
            "Epoch 1/10\n",
            "24/24 [==============================] - ETA: 0s - loss: 1.1821 - accuracy: 0.6429WARNING:tensorflow:Your input ran out of data; interrupting training. Make sure that your dataset or generator can generate at least `steps_per_epoch * epochs` batches (in this case, 40 batches). You may need to use the repeat() function when building your dataset.\n",
            "24/24 [==============================] - 17s 661ms/step - loss: 1.1821 - accuracy: 0.6429 - val_loss: 0.4049 - val_accuracy: 0.8969\n",
            "Epoch 2/10\n",
            "24/24 [==============================] - 8s 340ms/step - loss: 0.2734 - accuracy: 0.9247\n",
            "Epoch 3/10\n",
            "24/24 [==============================] - 25s 1s/step - loss: 0.1360 - accuracy: 0.9614\n",
            "Epoch 4/10\n",
            "24/24 [==============================] - 12s 451ms/step - loss: 0.0849 - accuracy: 0.9783\n",
            "Epoch 5/10\n",
            "24/24 [==============================] - 8s 333ms/step - loss: 0.0539 - accuracy: 0.9868\n",
            "Epoch 6/10\n",
            "24/24 [==============================] - 19s 762ms/step - loss: 0.0459 - accuracy: 0.9896\n",
            "Epoch 7/10\n",
            "24/24 [==============================] - 8s 345ms/step - loss: 0.0339 - accuracy: 0.9921\n",
            "Epoch 8/10\n",
            "24/24 [==============================] - 18s 775ms/step - loss: 0.0249 - accuracy: 0.9955\n",
            "Epoch 9/10\n",
            "24/24 [==============================] - 8s 342ms/step - loss: 0.0211 - accuracy: 0.9950\n",
            "Epoch 10/10\n",
            "24/24 [==============================] - 12s 500ms/step - loss: 0.0171 - accuracy: 0.9966\n"
          ]
        },
        {
          "data": {
            "text/plain": [
              "<keras.callbacks.History at 0x7fb1d4644ad0>"
            ]
          },
          "execution_count": 13,
          "metadata": {},
          "output_type": "execute_result"
        }
      ],
      "source": [
        "model.fit_generator(x_train, steps_per_epoch=24, epochs=10, validation_data=x_test,validation_steps=40)"
      ]
    },
    {
      "cell_type": "markdown",
      "metadata": {
        "id": "WsYIkQa0QR3w"
      },
      "source": [
        "#### Save The Model"
      ]
    },
    {
      "cell_type": "markdown",
      "metadata": {
        "id": "-hZQ6U2XQVpj"
      },
      "source": [
        "The weights are to be saved for future use. The weights are saved in as .h5 file using save()."
      ]
    },
    {
      "cell_type": "code",
      "execution_count": 13,
      "metadata": {
        "id": "R1qf9I-XQchW"
      },
      "outputs": [],
      "source": [
        "model.save('aslpng1.h5', include_optimizer=False)"
      ]
    }
  ],
  "metadata": {
    "colab": {
      "collapsed_sections": [],
      "provenance": []
    },
    "kernelspec": {
      "display_name": "sandbox",
      "language": "python",
      "name": "python3"
    },
    "language_info": {
      "codemirror_mode": {
        "name": "ipython",
        "version": 3
      },
      "file_extension": ".py",
      "mimetype": "text/x-python",
      "name": "python",
      "nbconvert_exporter": "python",
      "pygments_lexer": "ipython3",
      "version": "3.7.15"
    },
    "vscode": {
      "interpreter": {
        "hash": "1e35320bad2f69dde0eb0825a838dcf3ce83abd175e9019a9365d53954fa546c"
      }
    }
  },
  "nbformat": 4,
  "nbformat_minor": 0
}
